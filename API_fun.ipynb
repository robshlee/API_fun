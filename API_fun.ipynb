{
 "cells": [
  {
   "cell_type": "markdown",
   "metadata": {},
   "source": [
    "# API Fun\n",
    "In this notebook I'll be interacting with a few different APIs and place the data into pandas dataframes."
   ]
  },
  {
   "cell_type": "code",
   "execution_count": 1,
   "metadata": {
    "collapsed": true
   },
   "outputs": [],
   "source": [
    "import requests\n",
    "import json\n",
    "import pandas as pd\n",
    "import pprint"
   ]
  },
  {
   "cell_type": "markdown",
   "metadata": {},
   "source": [
    "### Google Maps API\n",
    "We'll take a look at what type of information can be retrieved through google maps geocode API."
   ]
  },
  {
   "cell_type": "code",
   "execution_count": 14,
   "metadata": {},
   "outputs": [
    {
     "data": {
      "text/plain": [
       "200"
      ]
     },
     "execution_count": 14,
     "metadata": {},
     "output_type": "execute_result"
    }
   ],
   "source": [
    "# Retrieve json from url and print status code\n",
    "maps_url = 'https://maps.googleapis.com/maps/api/geocode/json'\n",
    "\n",
    "res = requests.get(maps_url + '?address=Queens,+Newyork')\n",
    "res.status_code"
   ]
  },
  {
   "cell_type": "code",
   "execution_count": 15,
   "metadata": {},
   "outputs": [
    {
     "data": {
      "text/plain": [
       "{'results': [{'address_components': [{'long_name': 'Queens',\n",
       "     'short_name': 'Queens',\n",
       "     'types': ['political', 'sublocality', 'sublocality_level_1']},\n",
       "    {'long_name': 'Queens County',\n",
       "     'short_name': 'Queens County',\n",
       "     'types': ['administrative_area_level_2', 'political']},\n",
       "    {'long_name': 'New York',\n",
       "     'short_name': 'NY',\n",
       "     'types': ['administrative_area_level_1', 'political']},\n",
       "    {'long_name': 'United States',\n",
       "     'short_name': 'US',\n",
       "     'types': ['country', 'political']}],\n",
       "   'formatted_address': 'Queens, NY, USA',\n",
       "   'geometry': {'bounds': {'northeast': {'lat': 40.8122421,\n",
       "      'lng': -73.70027209999999},\n",
       "     'southwest': {'lat': 40.4897939, 'lng': -74.0421119}},\n",
       "    'location': {'lat': 40.7282239, 'lng': -73.7948516},\n",
       "    'location_type': 'APPROXIMATE',\n",
       "    'viewport': {'northeast': {'lat': 40.8122421, 'lng': -73.70027209999999},\n",
       "     'southwest': {'lat': 40.4897939, 'lng': -74.0421119}}},\n",
       "   'place_id': 'ChIJK1kKR2lDwokRBXtcbIvRCUE',\n",
       "   'types': ['political', 'sublocality', 'sublocality_level_1']}],\n",
       " 'status': 'OK'}"
      ]
     },
     "execution_count": 15,
     "metadata": {},
     "output_type": "execute_result"
    }
   ],
   "source": [
    "# Load the json file \n",
    "res_dictionary = json.loads(res.content)\n",
    "res_dictionary"
   ]
  },
  {
   "cell_type": "code",
   "execution_count": 28,
   "metadata": {},
   "outputs": [
    {
     "data": {
      "text/html": [
       "<div>\n",
       "<style>\n",
       "    .dataframe thead tr:only-child th {\n",
       "        text-align: right;\n",
       "    }\n",
       "\n",
       "    .dataframe thead th {\n",
       "        text-align: left;\n",
       "    }\n",
       "\n",
       "    .dataframe tbody tr th {\n",
       "        vertical-align: top;\n",
       "    }\n",
       "</style>\n",
       "<table border=\"1\" class=\"dataframe\">\n",
       "  <thead>\n",
       "    <tr style=\"text-align: right;\">\n",
       "      <th></th>\n",
       "      <th>long_name</th>\n",
       "      <th>short_name</th>\n",
       "      <th>types</th>\n",
       "    </tr>\n",
       "  </thead>\n",
       "  <tbody>\n",
       "    <tr>\n",
       "      <th>0</th>\n",
       "      <td>Queens</td>\n",
       "      <td>Queens</td>\n",
       "      <td>[political, sublocality, sublocality_level_1]</td>\n",
       "    </tr>\n",
       "    <tr>\n",
       "      <th>1</th>\n",
       "      <td>Queens County</td>\n",
       "      <td>Queens County</td>\n",
       "      <td>[administrative_area_level_2, political]</td>\n",
       "    </tr>\n",
       "    <tr>\n",
       "      <th>2</th>\n",
       "      <td>New York</td>\n",
       "      <td>NY</td>\n",
       "      <td>[administrative_area_level_1, political]</td>\n",
       "    </tr>\n",
       "    <tr>\n",
       "      <th>3</th>\n",
       "      <td>United States</td>\n",
       "      <td>US</td>\n",
       "      <td>[country, political]</td>\n",
       "    </tr>\n",
       "  </tbody>\n",
       "</table>\n",
       "</div>"
      ],
      "text/plain": [
       "       long_name     short_name                                          types\n",
       "0         Queens         Queens  [political, sublocality, sublocality_level_1]\n",
       "1  Queens County  Queens County       [administrative_area_level_2, political]\n",
       "2       New York             NY       [administrative_area_level_1, political]\n",
       "3  United States             US                           [country, political]"
      ]
     },
     "execution_count": 28,
     "metadata": {},
     "output_type": "execute_result"
    }
   ],
   "source": [
    "# Make dataframe from address components\n",
    "pd.DataFrame(res_dictionary['results'][0]['address_components'])"
   ]
  },
  {
   "cell_type": "markdown",
   "metadata": {},
   "source": [
    "Not too much interesting data given a city as the key. We can revisit this at a later date and play around with the distance data they have available."
   ]
  },
  {
   "cell_type": "markdown",
   "metadata": {},
   "source": [
    "### SWAPI (The Star Wars API)"
   ]
  },
  {
   "cell_type": "code",
   "execution_count": 32,
   "metadata": {},
   "outputs": [
    {
     "data": {
      "text/plain": [
       "200"
      ]
     },
     "execution_count": 32,
     "metadata": {},
     "output_type": "execute_result"
    }
   ],
   "source": [
    "# Retrieve json from url and print status code\n",
    "# API is for the characters in the Star Wars movies\n",
    "res = requests.get('https://swapi.co/api/people/?format=json')\n",
    "\n",
    "res.status_code"
   ]
  },
  {
   "cell_type": "code",
   "execution_count": 52,
   "metadata": {},
   "outputs": [
    {
     "data": {
      "text/html": [
       "<div>\n",
       "<style>\n",
       "    .dataframe thead tr:only-child th {\n",
       "        text-align: right;\n",
       "    }\n",
       "\n",
       "    .dataframe thead th {\n",
       "        text-align: left;\n",
       "    }\n",
       "\n",
       "    .dataframe tbody tr th {\n",
       "        vertical-align: top;\n",
       "    }\n",
       "</style>\n",
       "<table border=\"1\" class=\"dataframe\">\n",
       "  <thead>\n",
       "    <tr style=\"text-align: right;\">\n",
       "      <th></th>\n",
       "      <th>birth_year</th>\n",
       "      <th>created</th>\n",
       "      <th>edited</th>\n",
       "      <th>eye_color</th>\n",
       "      <th>films</th>\n",
       "      <th>gender</th>\n",
       "      <th>hair_color</th>\n",
       "      <th>height</th>\n",
       "      <th>homeworld</th>\n",
       "      <th>mass</th>\n",
       "      <th>name</th>\n",
       "      <th>skin_color</th>\n",
       "      <th>species</th>\n",
       "      <th>starships</th>\n",
       "      <th>url</th>\n",
       "      <th>vehicles</th>\n",
       "    </tr>\n",
       "  </thead>\n",
       "  <tbody>\n",
       "    <tr>\n",
       "      <th>0</th>\n",
       "      <td>19BBY</td>\n",
       "      <td>2014-12-09T13:50:51.644000Z</td>\n",
       "      <td>2014-12-20T21:17:56.891000Z</td>\n",
       "      <td>blue</td>\n",
       "      <td>[https://swapi.co/api/films/2/, https://swapi....</td>\n",
       "      <td>male</td>\n",
       "      <td>blond</td>\n",
       "      <td>172</td>\n",
       "      <td>https://swapi.co/api/planets/1/</td>\n",
       "      <td>77</td>\n",
       "      <td>Luke Skywalker</td>\n",
       "      <td>fair</td>\n",
       "      <td>[https://swapi.co/api/species/1/]</td>\n",
       "      <td>[https://swapi.co/api/starships/12/, https://s...</td>\n",
       "      <td>https://swapi.co/api/people/1/</td>\n",
       "      <td>[https://swapi.co/api/vehicles/14/, https://sw...</td>\n",
       "    </tr>\n",
       "    <tr>\n",
       "      <th>1</th>\n",
       "      <td>112BBY</td>\n",
       "      <td>2014-12-10T15:10:51.357000Z</td>\n",
       "      <td>2014-12-20T21:17:50.309000Z</td>\n",
       "      <td>yellow</td>\n",
       "      <td>[https://swapi.co/api/films/2/, https://swapi....</td>\n",
       "      <td>n/a</td>\n",
       "      <td>n/a</td>\n",
       "      <td>167</td>\n",
       "      <td>https://swapi.co/api/planets/1/</td>\n",
       "      <td>75</td>\n",
       "      <td>C-3PO</td>\n",
       "      <td>gold</td>\n",
       "      <td>[https://swapi.co/api/species/2/]</td>\n",
       "      <td>[]</td>\n",
       "      <td>https://swapi.co/api/people/2/</td>\n",
       "      <td>[]</td>\n",
       "    </tr>\n",
       "    <tr>\n",
       "      <th>2</th>\n",
       "      <td>33BBY</td>\n",
       "      <td>2014-12-10T15:11:50.376000Z</td>\n",
       "      <td>2014-12-20T21:17:50.311000Z</td>\n",
       "      <td>red</td>\n",
       "      <td>[https://swapi.co/api/films/2/, https://swapi....</td>\n",
       "      <td>n/a</td>\n",
       "      <td>n/a</td>\n",
       "      <td>96</td>\n",
       "      <td>https://swapi.co/api/planets/8/</td>\n",
       "      <td>32</td>\n",
       "      <td>R2-D2</td>\n",
       "      <td>white, blue</td>\n",
       "      <td>[https://swapi.co/api/species/2/]</td>\n",
       "      <td>[]</td>\n",
       "      <td>https://swapi.co/api/people/3/</td>\n",
       "      <td>[]</td>\n",
       "    </tr>\n",
       "    <tr>\n",
       "      <th>3</th>\n",
       "      <td>41.9BBY</td>\n",
       "      <td>2014-12-10T15:18:20.704000Z</td>\n",
       "      <td>2014-12-20T21:17:50.313000Z</td>\n",
       "      <td>yellow</td>\n",
       "      <td>[https://swapi.co/api/films/2/, https://swapi....</td>\n",
       "      <td>male</td>\n",
       "      <td>none</td>\n",
       "      <td>202</td>\n",
       "      <td>https://swapi.co/api/planets/1/</td>\n",
       "      <td>136</td>\n",
       "      <td>Darth Vader</td>\n",
       "      <td>white</td>\n",
       "      <td>[https://swapi.co/api/species/1/]</td>\n",
       "      <td>[https://swapi.co/api/starships/13/]</td>\n",
       "      <td>https://swapi.co/api/people/4/</td>\n",
       "      <td>[]</td>\n",
       "    </tr>\n",
       "    <tr>\n",
       "      <th>4</th>\n",
       "      <td>19BBY</td>\n",
       "      <td>2014-12-10T15:20:09.791000Z</td>\n",
       "      <td>2014-12-20T21:17:50.315000Z</td>\n",
       "      <td>brown</td>\n",
       "      <td>[https://swapi.co/api/films/2/, https://swapi....</td>\n",
       "      <td>female</td>\n",
       "      <td>brown</td>\n",
       "      <td>150</td>\n",
       "      <td>https://swapi.co/api/planets/2/</td>\n",
       "      <td>49</td>\n",
       "      <td>Leia Organa</td>\n",
       "      <td>light</td>\n",
       "      <td>[https://swapi.co/api/species/1/]</td>\n",
       "      <td>[]</td>\n",
       "      <td>https://swapi.co/api/people/5/</td>\n",
       "      <td>[https://swapi.co/api/vehicles/30/]</td>\n",
       "    </tr>\n",
       "  </tbody>\n",
       "</table>\n",
       "</div>"
      ],
      "text/plain": [
       "  birth_year                      created                       edited  \\\n",
       "0      19BBY  2014-12-09T13:50:51.644000Z  2014-12-20T21:17:56.891000Z   \n",
       "1     112BBY  2014-12-10T15:10:51.357000Z  2014-12-20T21:17:50.309000Z   \n",
       "2      33BBY  2014-12-10T15:11:50.376000Z  2014-12-20T21:17:50.311000Z   \n",
       "3    41.9BBY  2014-12-10T15:18:20.704000Z  2014-12-20T21:17:50.313000Z   \n",
       "4      19BBY  2014-12-10T15:20:09.791000Z  2014-12-20T21:17:50.315000Z   \n",
       "\n",
       "  eye_color                                              films  gender  \\\n",
       "0      blue  [https://swapi.co/api/films/2/, https://swapi....    male   \n",
       "1    yellow  [https://swapi.co/api/films/2/, https://swapi....     n/a   \n",
       "2       red  [https://swapi.co/api/films/2/, https://swapi....     n/a   \n",
       "3    yellow  [https://swapi.co/api/films/2/, https://swapi....    male   \n",
       "4     brown  [https://swapi.co/api/films/2/, https://swapi....  female   \n",
       "\n",
       "  hair_color height                        homeworld mass            name  \\\n",
       "0      blond    172  https://swapi.co/api/planets/1/   77  Luke Skywalker   \n",
       "1        n/a    167  https://swapi.co/api/planets/1/   75           C-3PO   \n",
       "2        n/a     96  https://swapi.co/api/planets/8/   32           R2-D2   \n",
       "3       none    202  https://swapi.co/api/planets/1/  136     Darth Vader   \n",
       "4      brown    150  https://swapi.co/api/planets/2/   49     Leia Organa   \n",
       "\n",
       "    skin_color                            species  \\\n",
       "0         fair  [https://swapi.co/api/species/1/]   \n",
       "1         gold  [https://swapi.co/api/species/2/]   \n",
       "2  white, blue  [https://swapi.co/api/species/2/]   \n",
       "3        white  [https://swapi.co/api/species/1/]   \n",
       "4        light  [https://swapi.co/api/species/1/]   \n",
       "\n",
       "                                           starships  \\\n",
       "0  [https://swapi.co/api/starships/12/, https://s...   \n",
       "1                                                 []   \n",
       "2                                                 []   \n",
       "3               [https://swapi.co/api/starships/13/]   \n",
       "4                                                 []   \n",
       "\n",
       "                              url  \\\n",
       "0  https://swapi.co/api/people/1/   \n",
       "1  https://swapi.co/api/people/2/   \n",
       "2  https://swapi.co/api/people/3/   \n",
       "3  https://swapi.co/api/people/4/   \n",
       "4  https://swapi.co/api/people/5/   \n",
       "\n",
       "                                            vehicles  \n",
       "0  [https://swapi.co/api/vehicles/14/, https://sw...  \n",
       "1                                                 []  \n",
       "2                                                 []  \n",
       "3                                                 []  \n",
       "4                [https://swapi.co/api/vehicles/30/]  "
      ]
     },
     "execution_count": 52,
     "metadata": {},
     "output_type": "execute_result"
    }
   ],
   "source": [
    "# Load the json file\n",
    "char_dict = json.loads(res.content)\n",
    "\n",
    "# Information stored in 'results' key\n",
    "df = pd.DataFrame(char_dict['results'])\n",
    "df.head()"
   ]
  },
  {
   "cell_type": "code",
   "execution_count": 60,
   "metadata": {},
   "outputs": [
    {
     "data": {
      "text/html": [
       "<div>\n",
       "<style>\n",
       "    .dataframe thead tr:only-child th {\n",
       "        text-align: right;\n",
       "    }\n",
       "\n",
       "    .dataframe thead th {\n",
       "        text-align: left;\n",
       "    }\n",
       "\n",
       "    .dataframe tbody tr th {\n",
       "        vertical-align: top;\n",
       "    }\n",
       "</style>\n",
       "<table border=\"1\" class=\"dataframe\">\n",
       "  <thead>\n",
       "    <tr style=\"text-align: right;\">\n",
       "      <th></th>\n",
       "      <th>birth_year</th>\n",
       "      <th>created</th>\n",
       "      <th>edited</th>\n",
       "      <th>eye_color</th>\n",
       "      <th>films</th>\n",
       "      <th>gender</th>\n",
       "      <th>hair_color</th>\n",
       "      <th>height</th>\n",
       "      <th>homeworld</th>\n",
       "      <th>mass</th>\n",
       "      <th>name</th>\n",
       "      <th>skin_color</th>\n",
       "      <th>species</th>\n",
       "      <th>starships</th>\n",
       "      <th>url</th>\n",
       "      <th>vehicles</th>\n",
       "    </tr>\n",
       "  </thead>\n",
       "  <tbody>\n",
       "    <tr>\n",
       "      <th>0</th>\n",
       "      <td>57BBY</td>\n",
       "      <td>2014-12-10T16:16:29.192000Z</td>\n",
       "      <td>2014-12-20T21:17:50.325000Z</td>\n",
       "      <td>blue-gray</td>\n",
       "      <td>[https://swapi.co/api/films/2/, https://swapi....</td>\n",
       "      <td>male</td>\n",
       "      <td>auburn, white</td>\n",
       "      <td>182</td>\n",
       "      <td>https://swapi.co/api/planets/20/</td>\n",
       "      <td>77</td>\n",
       "      <td>Obi-Wan Kenobi</td>\n",
       "      <td>fair</td>\n",
       "      <td>[https://swapi.co/api/species/1/]</td>\n",
       "      <td>[https://swapi.co/api/starships/48/, https://s...</td>\n",
       "      <td>https://swapi.co/api/people/10/</td>\n",
       "      <td>[https://swapi.co/api/vehicles/38/]</td>\n",
       "    </tr>\n",
       "  </tbody>\n",
       "</table>\n",
       "</div>"
      ],
      "text/plain": [
       "  birth_year                      created                       edited  \\\n",
       "0      57BBY  2014-12-10T16:16:29.192000Z  2014-12-20T21:17:50.325000Z   \n",
       "\n",
       "   eye_color                                              films gender  \\\n",
       "0  blue-gray  [https://swapi.co/api/films/2/, https://swapi....   male   \n",
       "\n",
       "      hair_color height                         homeworld mass  \\\n",
       "0  auburn, white    182  https://swapi.co/api/planets/20/   77   \n",
       "\n",
       "             name skin_color                            species  \\\n",
       "0  Obi-Wan Kenobi       fair  [https://swapi.co/api/species/1/]   \n",
       "\n",
       "                                           starships  \\\n",
       "0  [https://swapi.co/api/starships/48/, https://s...   \n",
       "\n",
       "                               url                             vehicles  \n",
       "0  https://swapi.co/api/people/10/  [https://swapi.co/api/vehicles/38/]  "
      ]
     },
     "execution_count": 60,
     "metadata": {},
     "output_type": "execute_result"
    }
   ],
   "source": [
    "# Using 'params' parameter for the get method can make the request\n",
    "# more dynamic.\n",
    "query = 'obi'\n",
    "url = 'https://swapi.co/api/people'\n",
    "\n",
    "query_params = {'format': 'json', 'search': query}\n",
    "res = requests.get(url, query_params)\n",
    "\n",
    "obi_dict = json.loads(res.content)\n",
    "\n",
    "pd.DataFrame(obi_dict['results'])"
   ]
  },
  {
   "cell_type": "markdown",
   "metadata": {},
   "source": [
    "###  Failed Startup API\n",
    "This API was built by one of my instructors at General Assembly. He called it one of his failed startups, but ended up serving well for teaching purposes for APIs. He said he makes tens of dollars a year with this website.<br/><br/>\n",
    "This website is an easy way to match new businesses with their corresponding NAICS codes"
   ]
  },
  {
   "cell_type": "code",
   "execution_count": 83,
   "metadata": {},
   "outputs": [
    {
     "data": {
      "text/plain": [
       "200"
      ]
     },
     "execution_count": 83,
     "metadata": {},
     "output_type": "execute_result"
    }
   ],
   "source": [
    "# Retrieve json from url and print status code\n",
    "res = requests.get('https://naics-codes.firebaseio.com/codes.json')\n",
    "\n",
    "res.status_code"
   ]
  },
  {
   "cell_type": "code",
   "execution_count": 88,
   "metadata": {},
   "outputs": [
    {
     "data": {
      "text/plain": [
       "{'111110': 'Soybean Farming',\n",
       " '111120': 'Oilseed (except Soybean) Farming',\n",
       " '111130': 'Dry Pea and Bean Farming',\n",
       " '111140': 'Wheat Farming',\n",
       " '111150': 'Corn Farming'}"
      ]
     },
     "execution_count": 88,
     "metadata": {},
     "output_type": "execute_result"
    }
   ],
   "source": [
    "# Load the json file\n",
    "dct = json.loads(res.content)\n",
    "\n",
    "# Print first 5 key, value pairs\n",
    "{k: dct[k] for k in list(dct)[:5]}"
   ]
  },
  {
   "cell_type": "code",
   "execution_count": 92,
   "metadata": {},
   "outputs": [
    {
     "data": {
      "text/html": [
       "<div>\n",
       "<style>\n",
       "    .dataframe thead tr:only-child th {\n",
       "        text-align: right;\n",
       "    }\n",
       "\n",
       "    .dataframe thead th {\n",
       "        text-align: left;\n",
       "    }\n",
       "\n",
       "    .dataframe tbody tr th {\n",
       "        vertical-align: top;\n",
       "    }\n",
       "</style>\n",
       "<table border=\"1\" class=\"dataframe\">\n",
       "  <thead>\n",
       "    <tr style=\"text-align: right;\">\n",
       "      <th></th>\n",
       "      <th>code</th>\n",
       "      <th>desc</th>\n",
       "    </tr>\n",
       "  </thead>\n",
       "  <tbody>\n",
       "    <tr>\n",
       "      <th>0</th>\n",
       "      <td>111110</td>\n",
       "      <td>Soybean Farming</td>\n",
       "    </tr>\n",
       "    <tr>\n",
       "      <th>1</th>\n",
       "      <td>111120</td>\n",
       "      <td>Oilseed (except Soybean) Farming</td>\n",
       "    </tr>\n",
       "    <tr>\n",
       "      <th>2</th>\n",
       "      <td>111130</td>\n",
       "      <td>Dry Pea and Bean Farming</td>\n",
       "    </tr>\n",
       "    <tr>\n",
       "      <th>3</th>\n",
       "      <td>111140</td>\n",
       "      <td>Wheat Farming</td>\n",
       "    </tr>\n",
       "    <tr>\n",
       "      <th>4</th>\n",
       "      <td>111150</td>\n",
       "      <td>Corn Farming</td>\n",
       "    </tr>\n",
       "  </tbody>\n",
       "</table>\n",
       "</div>"
      ],
      "text/plain": [
       "     code                              desc\n",
       "0  111110                   Soybean Farming\n",
       "1  111120  Oilseed (except Soybean) Farming\n",
       "2  111130          Dry Pea and Bean Farming\n",
       "3  111140                     Wheat Farming\n",
       "4  111150                      Corn Farming"
      ]
     },
     "execution_count": 92,
     "metadata": {},
     "output_type": "execute_result"
    }
   ],
   "source": [
    "# Create list of dictionaries to create pandas Dataframe\n",
    "codes = []\n",
    "\n",
    "for k, v in dct.items():\n",
    "    temp_dct = {}\n",
    "    temp_dct['code'] = k\n",
    "    temp_dct['desc'] = v\n",
    "    \n",
    "    codes.append(temp_dct)\n",
    "    \n",
    "df = pd.DataFrame(codes)\n",
    "df.head()"
   ]
  },
  {
   "cell_type": "markdown",
   "metadata": {},
   "source": [
    "The next few get requests are from the same website, but different pages."
   ]
  },
  {
   "cell_type": "code",
   "execution_count": 98,
   "metadata": {},
   "outputs": [
    {
     "data": {
      "text/plain": [
       "200"
      ]
     },
     "execution_count": 98,
     "metadata": {},
     "output_type": "execute_result"
    }
   ],
   "source": [
    "# Ranges are grouped categories for the corresponding first 2 digits\n",
    "# of the NAICS code\n",
    "res = requests.get('https://naics-codes.firebaseio.com/ranges.json')\n",
    "res.status_code"
   ]
  },
  {
   "cell_type": "code",
   "execution_count": 99,
   "metadata": {},
   "outputs": [
    {
     "data": {
      "text/plain": [
       "{'11': 'NAICS range for Agriculture, Forestry, Fishing and Hunting',\n",
       " '21': 'NAICS range for Mining, Quarrying, and Oil and Gas Extraction',\n",
       " '22': 'NAICS range for Utilities',\n",
       " '23': 'NAICS range for Construction',\n",
       " '31': 'NAICS range for Manufacturing',\n",
       " '42': 'NAICS range for Wholesale Trade',\n",
       " '44': 'NAICS range for Retail Trade',\n",
       " '48': 'NAICS range for Transportation and Warehousing',\n",
       " '51': 'NAICS range for Information',\n",
       " '52': 'NAICS range for Finance and Insurance',\n",
       " '53': 'NAICS range for Real Estate and Rental and Leasing',\n",
       " '54': 'NAICS range for Professional, Scientific, and Technical Services',\n",
       " '55': 'NAICS range for Management of Companies and Enterprises',\n",
       " '56': 'NAICS range for Administrative and Support and Waste Management and Remediation Services',\n",
       " '61': 'NAICS range for Educational Services',\n",
       " '62': 'NAICS range for Health Care and Social Assistance',\n",
       " '71': 'NAICS range for Arts, Entertainment, and Recreation',\n",
       " '72': 'NAICS range for Accommodation and Food Services',\n",
       " '81': 'NAICS range for Other Services (except Public Administration)',\n",
       " '92': 'NAICS range for Public Administration'}"
      ]
     },
     "execution_count": 99,
     "metadata": {},
     "output_type": "execute_result"
    }
   ],
   "source": [
    "# Load JSON and print the dictionary\n",
    "range_dct = res.json()\n",
    "range_dct"
   ]
  },
  {
   "cell_type": "code",
   "execution_count": 101,
   "metadata": {},
   "outputs": [
    {
     "data": {
      "text/html": [
       "<div>\n",
       "<style>\n",
       "    .dataframe thead tr:only-child th {\n",
       "        text-align: right;\n",
       "    }\n",
       "\n",
       "    .dataframe thead th {\n",
       "        text-align: left;\n",
       "    }\n",
       "\n",
       "    .dataframe tbody tr th {\n",
       "        vertical-align: top;\n",
       "    }\n",
       "</style>\n",
       "<table border=\"1\" class=\"dataframe\">\n",
       "  <thead>\n",
       "    <tr style=\"text-align: right;\">\n",
       "      <th></th>\n",
       "      <th>code</th>\n",
       "      <th>desc</th>\n",
       "    </tr>\n",
       "  </thead>\n",
       "  <tbody>\n",
       "    <tr>\n",
       "      <th>0</th>\n",
       "      <td>11</td>\n",
       "      <td>NAICS range for Agriculture, Forestry, Fishing...</td>\n",
       "    </tr>\n",
       "    <tr>\n",
       "      <th>1</th>\n",
       "      <td>21</td>\n",
       "      <td>NAICS range for Mining, Quarrying, and Oil and...</td>\n",
       "    </tr>\n",
       "    <tr>\n",
       "      <th>2</th>\n",
       "      <td>22</td>\n",
       "      <td>NAICS range for Utilities</td>\n",
       "    </tr>\n",
       "    <tr>\n",
       "      <th>3</th>\n",
       "      <td>23</td>\n",
       "      <td>NAICS range for Construction</td>\n",
       "    </tr>\n",
       "    <tr>\n",
       "      <th>4</th>\n",
       "      <td>31</td>\n",
       "      <td>NAICS range for Manufacturing</td>\n",
       "    </tr>\n",
       "    <tr>\n",
       "      <th>5</th>\n",
       "      <td>42</td>\n",
       "      <td>NAICS range for Wholesale Trade</td>\n",
       "    </tr>\n",
       "    <tr>\n",
       "      <th>6</th>\n",
       "      <td>44</td>\n",
       "      <td>NAICS range for Retail Trade</td>\n",
       "    </tr>\n",
       "    <tr>\n",
       "      <th>7</th>\n",
       "      <td>48</td>\n",
       "      <td>NAICS range for Transportation and Warehousing</td>\n",
       "    </tr>\n",
       "    <tr>\n",
       "      <th>8</th>\n",
       "      <td>51</td>\n",
       "      <td>NAICS range for Information</td>\n",
       "    </tr>\n",
       "    <tr>\n",
       "      <th>9</th>\n",
       "      <td>52</td>\n",
       "      <td>NAICS range for Finance and Insurance</td>\n",
       "    </tr>\n",
       "    <tr>\n",
       "      <th>10</th>\n",
       "      <td>53</td>\n",
       "      <td>NAICS range for Real Estate and Rental and Lea...</td>\n",
       "    </tr>\n",
       "    <tr>\n",
       "      <th>11</th>\n",
       "      <td>54</td>\n",
       "      <td>NAICS range for Professional, Scientific, and ...</td>\n",
       "    </tr>\n",
       "    <tr>\n",
       "      <th>12</th>\n",
       "      <td>55</td>\n",
       "      <td>NAICS range for Management of Companies and En...</td>\n",
       "    </tr>\n",
       "    <tr>\n",
       "      <th>13</th>\n",
       "      <td>56</td>\n",
       "      <td>NAICS range for Administrative and Support and...</td>\n",
       "    </tr>\n",
       "    <tr>\n",
       "      <th>14</th>\n",
       "      <td>61</td>\n",
       "      <td>NAICS range for Educational Services</td>\n",
       "    </tr>\n",
       "    <tr>\n",
       "      <th>15</th>\n",
       "      <td>62</td>\n",
       "      <td>NAICS range for Health Care and Social Assistance</td>\n",
       "    </tr>\n",
       "    <tr>\n",
       "      <th>16</th>\n",
       "      <td>71</td>\n",
       "      <td>NAICS range for Arts, Entertainment, and Recre...</td>\n",
       "    </tr>\n",
       "    <tr>\n",
       "      <th>17</th>\n",
       "      <td>72</td>\n",
       "      <td>NAICS range for Accommodation and Food Services</td>\n",
       "    </tr>\n",
       "    <tr>\n",
       "      <th>18</th>\n",
       "      <td>81</td>\n",
       "      <td>NAICS range for Other Services (except Public ...</td>\n",
       "    </tr>\n",
       "    <tr>\n",
       "      <th>19</th>\n",
       "      <td>92</td>\n",
       "      <td>NAICS range for Public Administration</td>\n",
       "    </tr>\n",
       "  </tbody>\n",
       "</table>\n",
       "</div>"
      ],
      "text/plain": [
       "   code                                               desc\n",
       "0    11  NAICS range for Agriculture, Forestry, Fishing...\n",
       "1    21  NAICS range for Mining, Quarrying, and Oil and...\n",
       "2    22                          NAICS range for Utilities\n",
       "3    23                       NAICS range for Construction\n",
       "4    31                      NAICS range for Manufacturing\n",
       "5    42                    NAICS range for Wholesale Trade\n",
       "6    44                       NAICS range for Retail Trade\n",
       "7    48     NAICS range for Transportation and Warehousing\n",
       "8    51                        NAICS range for Information\n",
       "9    52              NAICS range for Finance and Insurance\n",
       "10   53  NAICS range for Real Estate and Rental and Lea...\n",
       "11   54  NAICS range for Professional, Scientific, and ...\n",
       "12   55  NAICS range for Management of Companies and En...\n",
       "13   56  NAICS range for Administrative and Support and...\n",
       "14   61               NAICS range for Educational Services\n",
       "15   62  NAICS range for Health Care and Social Assistance\n",
       "16   71  NAICS range for Arts, Entertainment, and Recre...\n",
       "17   72    NAICS range for Accommodation and Food Services\n",
       "18   81  NAICS range for Other Services (except Public ...\n",
       "19   92              NAICS range for Public Administration"
      ]
     },
     "execution_count": 101,
     "metadata": {},
     "output_type": "execute_result"
    }
   ],
   "source": [
    "# Creating list of dictionaries through list comprehension\n",
    "ranges = [{'code': code, 'desc': desc} for code, desc in range_dct.items()]\n",
    "\n",
    "pd.DataFrame(ranges)"
   ]
  },
  {
   "cell_type": "code",
   "execution_count": 105,
   "metadata": {},
   "outputs": [
    {
     "data": {
      "text/plain": [
       "200"
      ]
     },
     "execution_count": 105,
     "metadata": {},
     "output_type": "execute_result"
    }
   ],
   "source": [
    "# Industries gives descriptions with NAICS codes\n",
    "res = requests.get('https://naics-codes.firebaseio.com/industries.json')\n",
    "\n",
    "res.status_code"
   ]
  },
  {
   "cell_type": "code",
   "execution_count": 112,
   "metadata": {},
   "outputs": [
    {
     "data": {
      "text/plain": [
       "{'-KPQ1i-TjVmUkGtFRskR': {'code': '111110',\n",
       "  'description': 'Soybean farming, field and seed production'},\n",
       " '-KPQ1i-ZsVqdUh74c8BE': {'code': '111120',\n",
       "  'description': 'Canola farming, field and seed production'},\n",
       " '-KPQ1i-_a-jGi36cLdm6': {'code': '111120',\n",
       "  'description': 'Flaxseed farming, field and seed production'},\n",
       " '-KPQ1i-a5D-hoEcrLHgM': {'code': '111120',\n",
       "  'description': 'Mustard seed farming, field and seed production'},\n",
       " '-KPQ1i-a5D-hoEcrLHgN': {'code': '111120',\n",
       "  'description': 'Oilseed farming (except soybean), field and seed production'}}"
      ]
     },
     "execution_count": 112,
     "metadata": {},
     "output_type": "execute_result"
    }
   ],
   "source": [
    "# Load JSON and print first 5 key, value pairs in dictionary\n",
    "ind_dct = res.json()\n",
    "\n",
    "{k: ind_dct[k] for k in list(ind_dct)[:5]}"
   ]
  },
  {
   "cell_type": "code",
   "execution_count": 116,
   "metadata": {
    "scrolled": false
   },
   "outputs": [
    {
     "data": {
      "text/html": [
       "<div>\n",
       "<style>\n",
       "    .dataframe thead tr:only-child th {\n",
       "        text-align: right;\n",
       "    }\n",
       "\n",
       "    .dataframe thead th {\n",
       "        text-align: left;\n",
       "    }\n",
       "\n",
       "    .dataframe tbody tr th {\n",
       "        vertical-align: top;\n",
       "    }\n",
       "</style>\n",
       "<table border=\"1\" class=\"dataframe\">\n",
       "  <thead>\n",
       "    <tr style=\"text-align: right;\">\n",
       "      <th></th>\n",
       "      <th>code</th>\n",
       "      <th>description</th>\n",
       "    </tr>\n",
       "  </thead>\n",
       "  <tbody>\n",
       "    <tr>\n",
       "      <th>0</th>\n",
       "      <td>111110</td>\n",
       "      <td>Soybean farming, field and seed production</td>\n",
       "    </tr>\n",
       "    <tr>\n",
       "      <th>1</th>\n",
       "      <td>111120</td>\n",
       "      <td>Canola farming, field and seed production</td>\n",
       "    </tr>\n",
       "    <tr>\n",
       "      <th>2</th>\n",
       "      <td>111120</td>\n",
       "      <td>Flaxseed farming, field and seed production</td>\n",
       "    </tr>\n",
       "    <tr>\n",
       "      <th>3</th>\n",
       "      <td>111120</td>\n",
       "      <td>Mustard seed farming, field and seed production</td>\n",
       "    </tr>\n",
       "    <tr>\n",
       "      <th>4</th>\n",
       "      <td>111120</td>\n",
       "      <td>Oilseed farming (except soybean), field and se...</td>\n",
       "    </tr>\n",
       "  </tbody>\n",
       "</table>\n",
       "</div>"
      ],
      "text/plain": [
       "     code                                        description\n",
       "0  111110         Soybean farming, field and seed production\n",
       "1  111120          Canola farming, field and seed production\n",
       "2  111120        Flaxseed farming, field and seed production\n",
       "3  111120    Mustard seed farming, field and seed production\n",
       "4  111120  Oilseed farming (except soybean), field and se..."
      ]
     },
     "execution_count": 116,
     "metadata": {},
     "output_type": "execute_result"
    }
   ],
   "source": [
    "# Create list of dictionaries from the value of ind_dct dictionary\n",
    "industries = []\n",
    "\n",
    "for k, v in ind_dct.items():\n",
    "    industries.append(v)\n",
    "    \n",
    "pd.DataFrame(industries).head()"
   ]
  },
  {
   "cell_type": "code",
   "execution_count": null,
   "metadata": {
    "collapsed": true
   },
   "outputs": [],
   "source": []
  }
 ],
 "metadata": {
  "kernelspec": {
   "display_name": "Python 3",
   "language": "python",
   "name": "python3"
  },
  "language_info": {
   "codemirror_mode": {
    "name": "ipython",
    "version": 3
   },
   "file_extension": ".py",
   "mimetype": "text/x-python",
   "name": "python",
   "nbconvert_exporter": "python",
   "pygments_lexer": "ipython3",
   "version": "3.6.1"
  }
 },
 "nbformat": 4,
 "nbformat_minor": 2
}
